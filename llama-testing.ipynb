{
 "cells": [
  {
   "cell_type": "code",
   "execution_count": 3,
   "metadata": {},
   "outputs": [
    {
     "name": "stdout",
     "output_type": "stream",
     "text": [
      "Hi there! It's nice to meet you. Is there something I can help you with, or would you like to chat?\n"
     ]
    }
   ],
   "source": [
    "from myLlama import chat\n",
    "\n",
    "chat('hi there')"
   ]
  },
  {
   "cell_type": "code",
   "execution_count": 4,
   "metadata": {},
   "outputs": [
    {
     "name": "stdout",
     "output_type": "stream",
     "text": [
      "Why couldn't the bicycle stand up by itself?\n",
      "\n",
      "Because it was two-tired!\n",
      "\n",
      "Hope that made you smile!"
     ]
    }
   ],
   "source": [
    "from myLlama import generate\n",
    "\n",
    "generate('tell me a joke')"
   ]
  },
  {
   "cell_type": "code",
   "execution_count": 5,
   "metadata": {},
   "outputs": [],
   "source": [
    "from myLlama import encode_image,generate_w_images\n",
    "\n",
    "img = encode_image('image_file.png')"
   ]
  },
  {
   "cell_type": "code",
   "execution_count": 6,
   "metadata": {},
   "outputs": [
    {
     "name": "stdout",
     "output_type": "stream",
     "text": [
      " The image appears to show a computer screen with the desktop view of a Linux-based operating system, possibly Ubuntu, given the recognizable layout and the software icons on the dock. The user interface is shown with various application folders open, revealing their contents. There's a directory named \"music\" with what seems to be files related to music or multimedia content. Additionally, there are other directories such as \"Vision,\" \"Documents,\" and \"Programming_tools,\" which could suggest that the user is involved in various activities like documentation, programming, and possibly photography or graphic design, given the term \"Vision.\"\n",
      "\n",
      "The desktop environment looks well-organized with a dark theme, which is common for Linux distributions to reduce eye strain during long periods of use. The desktop also includes some application icons such as the music player, web browser, and others that are part of the default installation of Ubuntu or a similar distribution.\n",
      "\n",
      "Overall, it's a snapshot of a typical computer user's workspace with files and folders indicating their interests or activities. \n"
     ]
    }
   ],
   "source": [
    "generate_w_images('what is in this image?',\n",
    "                  images = [img])"
   ]
  },
  {
   "cell_type": "code",
   "execution_count": 1,
   "metadata": {},
   "outputs": [
    {
     "name": "stdout",
     "output_type": "stream",
     "text": [
      "The age-old question!\n",
      "\n",
      "The meaning of life has been debated and explored by philosophers, theologians, scientists, and everyday people for centuries. There's no one definitive answer, as it's a deeply personal and subjective inquiry. However, here are some insights from various perspectives:\n",
      "\n",
      "**Philosophical perspectives:**\n",
      "\n",
      "1. **Existentialism**: The meaning of life is to create our own purpose and value in an inherently meaningless universe.\n",
      "2. **Absolutism**: The meaning of life is determined by a higher power or absolute truth (e.g., God, morality).\n",
      "3. **Humanism**: The meaning of life lies in human experience, connection, and flourishing.\n",
      "\n",
      "**Scientific perspectives:**\n",
      "\n",
      "1. **Evolutionary theory**: The meaning of life may be to survive, reproduce, and pass on genetic information.\n",
      "2. **Biological perspective**: The meaning of life could be related to the pursuit of pleasure, happiness, or well-being.\n",
      "3. **Cosmic perspective**: The meaning of life might lie in our understanding of the universe and our place within it.\n",
      "\n",
      "**Religious perspectives:**\n",
      "\n",
      "1. **Monotheistic religions**: Many believe that God's purpose is the central driving force behind the meaning of life.\n",
      "2. **Eastern philosophies**: Concepts like karma, reincarnation, or self-realization can provide a sense of purpose.\n",
      "3. **Spiritual perspectives**: The meaning of life may be found in a connection to nature, the universe, or a higher power.\n",
      "\n",
      "**Personal perspectives:**\n",
      "\n",
      "1. **Pursuing happiness**: For many people, the meaning of life is tied to their personal happiness and fulfillment.\n",
      "2. **Relationships and connections**: Building meaningful relationships with others can bring a sense of purpose.\n",
      "3. **Growth and learning**: Continuous self-improvement and growth can be a source of meaning.\n",
      "\n",
      "Ultimately, the meaning of life is a highly subjective and individualized inquiry. It's up to each person to reflect on their values, beliefs, and experiences to discover what gives their life significance.\n",
      "\n",
      "What do you think? How do you approach understanding the meaning of life?\n"
     ]
    }
   ],
   "source": [
    "from myLlama import Agent\n",
    "\n",
    "agent = Agent()\n",
    "\n",
    "agent.chat('what is the meaning of life?')"
   ]
  },
  {
   "cell_type": "code",
   "execution_count": 2,
   "metadata": {},
   "outputs": [
    {
     "name": "stdout",
     "output_type": "stream",
     "text": [
      "We discussed the question \"what is the meaning of life?\" and explored various perspectives from philosophy, science, religion, and personal experiences.\n"
     ]
    }
   ],
   "source": [
    "agent.chat('what did we just talk about? Give a brief answer')"
   ]
  }
 ],
 "metadata": {
  "kernelspec": {
   "display_name": "agi",
   "language": "python",
   "name": "python3"
  },
  "language_info": {
   "codemirror_mode": {
    "name": "ipython",
    "version": 3
   },
   "file_extension": ".py",
   "mimetype": "text/x-python",
   "name": "python",
   "nbconvert_exporter": "python",
   "pygments_lexer": "ipython3",
   "version": "3.11.8"
  }
 },
 "nbformat": 4,
 "nbformat_minor": 2
}
