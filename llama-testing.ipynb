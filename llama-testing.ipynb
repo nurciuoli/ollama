{
 "cells": [
  {
   "cell_type": "code",
   "execution_count": 3,
   "metadata": {},
   "outputs": [
    {
     "name": "stdout",
     "output_type": "stream",
     "text": [
      "Hi there! It's nice to meet you. Is there something I can help you with, or would you like to chat?\n"
     ]
    }
   ],
   "source": [
    "from myLlama import chat\n",
    "\n",
    "chat('hi there')"
   ]
  },
  {
   "cell_type": "code",
   "execution_count": 4,
   "metadata": {},
   "outputs": [
    {
     "name": "stdout",
     "output_type": "stream",
     "text": [
      "Here's one:\n",
      "\n",
      "Why couldn't the bicycle stand up by itself?\n",
      "\n",
      "Because it was two-tired!\n",
      "\n",
      "Hope that made you laugh!"
     ]
    }
   ],
   "source": [
    "from myLlama import generate\n",
    "\n",
    "generate('tell me a joke')"
   ]
  },
  {
   "cell_type": "code",
   "execution_count": 1,
   "metadata": {},
   "outputs": [],
   "source": [
    "from myLlama import encode_image,generate_w_images\n",
    "\n",
    "img = encode_image('image_file.png')"
   ]
  },
  {
   "cell_type": "code",
   "execution_count": 2,
   "metadata": {},
   "outputs": [
    {
     "name": "stdout",
     "output_type": "stream",
     "text": [
      " The image displays a computer interface showing a folder structure in a file system. There are several folders and files within this directory, indicating that it is likely part of an operating system or development environment. Here's a breakdown of what I can see:\n",
      "\n",
      "1. The main folder at the top level appears to be named \"work\", suggesting that it might contain files related to work projects.\n",
      "2. Within \"work\", there are several subfolders, including \"docs\", which likely contains documents; \"tools\", which may contain software or tools for various tasks; and \"workers\", possibly indicating a directory where worker-related information is stored.\n",
      "3. There are also files within the main work folder:\n",
      "   - \"vision\" is a file, which might be related to a specific project or document within the \"work\" folder.\n",
      "   - \"test\" appears to be another file in the same directory as \"vision\".\n",
      "4. The interface suggests that this could be from a Linux-based operating system due to the design and layout of the file manager.\n",
      "5. In the lower part of the screen, there are various tools or utilities listed under a category or subfolder called \"workers\", which is not a standard folder structure in most operating systems.\n",
      "6. The window on the right seems to be displaying more folders and files within the \"work\" directory, including \"notes\", \"programs\", \"tools\", \"workers\", \"live-in-air\", \"household_prices\", and \"households_data\".\n",
      "7. There are also some directories such as \"music\", \"test\", and \"vision\", which seem to be related to the project or work being done in this folder.\n",
      "8. The \"workers\" folder contains subfolders like \"docs\", \"programs\", \"tools\", and \"households_data\", suggesting that these are resources used by workers in this context.\n",
      "\n",
      "Overall, the image gives a snapshot of the file structure for an ongoing project or workspace. \n"
     ]
    }
   ],
   "source": [
    "generate_w_images('what is in this image?',\n",
    "                  images = [img])"
   ]
  },
  {
   "cell_type": "code",
   "execution_count": null,
   "metadata": {},
   "outputs": [],
   "source": []
  }
 ],
 "metadata": {
  "kernelspec": {
   "display_name": "agi",
   "language": "python",
   "name": "python3"
  },
  "language_info": {
   "codemirror_mode": {
    "name": "ipython",
    "version": 3
   },
   "file_extension": ".py",
   "mimetype": "text/x-python",
   "name": "python",
   "nbconvert_exporter": "python",
   "pygments_lexer": "ipython3",
   "version": "3.11.8"
  }
 },
 "nbformat": 4,
 "nbformat_minor": 2
}
