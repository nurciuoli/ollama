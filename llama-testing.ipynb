{
 "cells": [
  {
   "cell_type": "code",
   "execution_count": 1,
   "metadata": {},
   "outputs": [
    {
     "name": "stdout",
     "output_type": "stream",
     "text": [
      "Hi there! It's nice to meet you. Is there something I can help you with or would you like to chat?\n"
     ]
    }
   ],
   "source": [
    "from myLlama import chat\n",
    "\n",
    "chat('hi there')"
   ]
  },
  {
   "cell_type": "code",
   "execution_count": 2,
   "metadata": {},
   "outputs": [
    {
     "name": "stdout",
     "output_type": "stream",
     "text": [
      "Here's one:\n",
      "\n",
      "Why don't eggs tell jokes?\n",
      "\n",
      "Because they'd crack each other up!\n",
      "\n",
      "Hope that made you smile!"
     ]
    }
   ],
   "source": [
    "from myLlama import generate\n",
    "\n",
    "generate('tell me a joke')"
   ]
  },
  {
   "cell_type": "code",
   "execution_count": 4,
   "metadata": {},
   "outputs": [
    {
     "name": "stdout",
     "output_type": "stream",
     "text": [
      "{\"fact\": \"The shortest war in history was between Britain and Zanzibar on August 27, 1896, and lasted only 38 minutes.\"}\n"
     ]
    }
   ],
   "source": [
    "generate(prompt='tell me a random factor. use this format {\"fact\":\"insert random fact here (example: the sky is blue)\"}',\n",
    "         stream=False,\n",
    "         format='json')\n",
    "\n"
   ]
  },
  {
   "cell_type": "code",
   "execution_count": 5,
   "metadata": {},
   "outputs": [],
   "source": [
    "from myLlama import encode_image,generate_w_images\n",
    "\n",
    "img = encode_image('/test/image_file.png')"
   ]
  },
  {
   "cell_type": "code",
   "execution_count": 6,
   "metadata": {},
   "outputs": [
    {
     "name": "stdout",
     "output_type": "stream",
     "text": [
      " The image shows a computer screen with an open file explorer window. It appears to be running on the Windows operating system, as indicated by the familiar interface elements such as the \"Start\" button, taskbar, and the folder structure. The active folder in the window is labeled \"Documents,\" and it contains various subfolders and files, indicating that this user may have recently been working on some documents or projects.\n",
      "\n",
      "The main file explorer window is showing a list of folders on the left side, and within these folders are individual files with names like \"ReadMe.md,\" \"VISION,\" \"Worker tools,\" \"Notes,\" \"Housing prices,\" and others that seem to be related to work or projects being managed by this user.\n",
      "\n",
      "On the right side of the explorer window, there is a settings or options panel open, which includes options such as \"Music,\" \"Reading,\" and other preferences. The settings panel indicates that the user may be customizing their file system view or configuring some settings related to their work or documents.\n",
      "\n",
      "The overall theme suggests that the user might be engaged in professional work, given the context of the folder names and the presence of the settings panel. \n"
     ]
    }
   ],
   "source": [
    "generate_w_images('what is in this image?',\n",
    "                  images = [img])"
   ]
  },
  {
   "cell_type": "code",
   "execution_count": 7,
   "metadata": {},
   "outputs": [
    {
     "name": "stdout",
     "output_type": "stream",
     "text": [
      "What a profound and age-old question!\n",
      "\n",
      "The meaning of life is a topic that has puzzled philosophers, theologians, scientists, and everyday people for centuries. There's no one-size-fits-all answer, as it's a deeply personal and subjective inquiry.\n",
      "\n",
      "Here are some perspectives to consider:\n",
      "\n",
      "1. **Existentialist view**: Some argue that the meaning of life is simply to exist and experience the world around us. We can create our own purpose and significance through our choices, actions, and relationships.\n",
      "2. **Religious perspective**: Many faiths believe that the meaning of life is to serve a higher power or follow a divine plan. This perspective often emphasizes morality, ethics, and spiritual growth.\n",
      "3. **Humanist approach**: From this viewpoint, the meaning of life lies in human experience, values, and relationships. It's about cultivating our unique potential, fostering connections with others, and pursuing happiness and fulfillment.\n",
      "4. **Scientific perspective**: Some scientists argue that the meaning of life is to perpetuate our species, ensure the survival of humanity, or contribute to the advancement of knowledge and understanding.\n",
      "5. **Eastern philosophical view**: In many Eastern philosophies, such as Buddhism and Taoism, the meaning of life is seen as a quest for enlightenment, self-awareness, or harmony with the universe.\n",
      "\n",
      "Ultimately, the meaning of life is what you make it. It's a deeply personal and subjective inquiry that can evolve over time.\n",
      "\n",
      "What do you think? What gives your life meaning?\n",
      "\n",
      "(And if you'd like to explore more ideas on this topic, I'm here to help!)\n"
     ]
    }
   ],
   "source": [
    "from myLlama import Agent\n",
    "\n",
    "agent = Agent()\n",
    "\n",
    "agent.chat('what is the meaning of life?')"
   ]
  },
  {
   "cell_type": "code",
   "execution_count": 8,
   "metadata": {},
   "outputs": [
    {
     "name": "stdout",
     "output_type": "stream",
     "text": [
      "We discussed the question \"What is the meaning of life?\" and explored various perspectives on it, including existentialist, religious, humanist, scientific, and Eastern philosophical views.\n"
     ]
    }
   ],
   "source": [
    "agent.chat('what did we just talk about? Give a brief answer')"
   ]
  }
 ],
 "metadata": {
  "kernelspec": {
   "display_name": "agi",
   "language": "python",
   "name": "python3"
  },
  "language_info": {
   "codemirror_mode": {
    "name": "ipython",
    "version": 3
   },
   "file_extension": ".py",
   "mimetype": "text/x-python",
   "name": "python",
   "nbconvert_exporter": "python",
   "pygments_lexer": "ipython3",
   "version": "3.11.8"
  }
 },
 "nbformat": 4,
 "nbformat_minor": 2
}
